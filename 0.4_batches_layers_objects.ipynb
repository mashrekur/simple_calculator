{
 "cells": [
  {
   "cell_type": "code",
   "execution_count": 1,
   "metadata": {},
   "outputs": [],
   "source": [
    "import numpy as np"
   ]
  },
  {
   "cell_type": "code",
   "execution_count": 14,
   "metadata": {},
   "outputs": [
    {
     "data": {
      "text/plain": [
       "array([[ 0.07974206, -0.1206105 ],\n",
       "       [ 0.00251507, -0.13801445],\n",
       "       [ 0.06388899,  0.00884218]])"
      ]
     },
     "execution_count": 14,
     "metadata": {},
     "output_type": "execute_result"
    }
   ],
   "source": [
    "X = [[1, 2, 3, 2.5],\n",
    "    [2.0, 5.0, -1.0, 2.0],\n",
    "    [-1.5, 2.7, 3.3, -0.8]]\n",
    "\n",
    "class Layer_Dense:\n",
    "    #initialize the first layer \n",
    "    def __init__(self, n_inputs, n_neurons):\n",
    "        #define weights and biases\n",
    "        self.weights = 0.10 * np.random.randn(n_inputs, n_neurons)\n",
    "        self.biases = np.zeros((1, n_neurons))\n",
    "    #forward the output of the previous layer to this layer (iw+b)    \n",
    "    def forward(self, inputs):\n",
    "        self.output = np.dot(inputs, self.weights) + self.biases\n",
    "\n",
    "layer1 = Layer_Dense(4,5)\n",
    "#this layer's input should be the size of the previous layer's output (4, 5 <- output)\n",
    "layer2 = Layer_Dense(5,2)\n",
    "\n",
    "layer1.forward(X)\n",
    "layer2.forward(layer1.output)\n",
    "layer2.output\n"
   ]
  },
  {
   "cell_type": "code",
   "execution_count": null,
   "metadata": {},
   "outputs": [],
   "source": []
  },
  {
   "cell_type": "code",
   "execution_count": 10,
   "metadata": {},
   "outputs": [
    {
     "data": {
      "text/plain": [
       "array([[ 4.8  ,  1.21 ,  2.385],\n",
       "       [ 8.9  , -1.81 ,  0.2  ],\n",
       "       [ 1.41 ,  1.051,  0.026]])"
      ]
     },
     "execution_count": 10,
     "metadata": {},
     "output_type": "execute_result"
    }
   ],
   "source": [
    "# weights1 = [[0.2, 0.8, -0.5, 1.0],\n",
    "#             [0.5, -0.91, 0.26, -0.5],\n",
    "#             [-0.26, -0.27, 0.17, 0.87]]\n",
    "\n",
    "# biases2 = [2, 3, 0.5]\n",
    "\n",
    "# weights2 = [[0.1, -0.14, 0.5],\n",
    "#             [-0.5, 0.12, -0.33],\n",
    "#             [-0.44, 0.73, 0.13]]\n",
    "\n",
    "# biases2 = [-1, 2, -0.5]\n",
    "\n",
    "\n",
    "\n",
    "# #need to transpose for aligning matrix shapes for dot product \n",
    "# layer1_outputs = np.dot(inputs, np.array(weights1).T) + biases1 \n",
    "\n",
    "# layer2_outputs = np.dot(inputs, np.array(weights2).T) + biases2 \n",
    "\n"
   ]
  },
  {
   "cell_type": "code",
   "execution_count": null,
   "metadata": {},
   "outputs": [],
   "source": []
  }
 ],
 "metadata": {
  "kernelspec": {
   "display_name": "Python 3",
   "language": "python",
   "name": "python3"
  },
  "language_info": {
   "codemirror_mode": {
    "name": "ipython",
    "version": 3
   },
   "file_extension": ".py",
   "mimetype": "text/x-python",
   "name": "python",
   "nbconvert_exporter": "python",
   "pygments_lexer": "ipython3",
   "version": "3.7.1"
  }
 },
 "nbformat": 4,
 "nbformat_minor": 2
}
