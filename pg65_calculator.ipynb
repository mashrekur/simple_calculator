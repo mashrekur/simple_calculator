{
 "cells": [
  {
   "cell_type": "code",
   "execution_count": 36,
   "metadata": {},
   "outputs": [
    {
     "name": "stdout",
     "output_type": "stream",
     "text": [
      "Input your age \n",
      "67\n",
      "Hope you had a good life!\n"
     ]
    }
   ],
   "source": [
    "#input age\n",
    "age = input(\"Input your age \\n\")\n",
    "age = float(age)\n",
    "if age >= 0 and age <= 12:\n",
    "    print(\"Kiddo\")\n",
    "elif age >= 13 and age <= 19:\n",
    "    print(\"Teenager\")\n",
    "elif age >= 20 and age <= 30:\n",
    "    print(\"Young Adult\")\n",
    "elif age >= 31 and age <= 64:\n",
    "    print(\"Getting old!\")\n",
    "elif age >= 65:\n",
    "    print(\"Hope you had a good life!\")\n",
    "else:\n",
    "    print(\"Invalid Input\")"
   ]
  },
  {
   "cell_type": "code",
   "execution_count": 28,
   "metadata": {
    "scrolled": true
   },
   "outputs": [
    {
     "name": "stdout",
     "output_type": "stream",
     "text": [
      "Choose operation - addition/subtraction/multiplication/divisiondivision\n",
      "You chose division\n"
     ]
    }
   ],
   "source": [
    "#choose operation\n",
    "\n",
    "operation  = input(\"Choose operation - addition/subtraction/multiplication/division\").lower()\n",
    "print(\"You chose {}\".format(operation))"
   ]
  },
  {
   "cell_type": "code",
   "execution_count": 29,
   "metadata": {},
   "outputs": [
    {
     "name": "stdout",
     "output_type": "stream",
     "text": [
      "Choose Number 1; order matters10\n",
      "Choose Number 2; order matters2\n"
     ]
    }
   ],
   "source": [
    "#choose numbers\n",
    "\n",
    "number1 = input(\"Choose Number 1; order matters\")\n",
    "number1 = float(number1)\n",
    "number2 = input(\"Choose Number 2; order matters\")\n",
    "number2 = float(number2)"
   ]
  },
  {
   "cell_type": "code",
   "execution_count": 30,
   "metadata": {},
   "outputs": [
    {
     "name": "stdout",
     "output_type": "stream",
     "text": [
      "Would you like to reverse the order? Choose yes/noyes\n",
      "You chose yes\n"
     ]
    }
   ],
   "source": [
    "#reverse order of numbers?\n",
    "\n",
    "rev_ord = input(\"Would you like to reverse the order? Choose yes/no\")\n",
    "rev_ord = rev_ord.lower()\n",
    "print(\"You chose {}\".format(rev_ord))"
   ]
  },
  {
   "cell_type": "code",
   "execution_count": 31,
   "metadata": {},
   "outputs": [],
   "source": [
    "#one for reverse order and one for BaU\n",
    "\n",
    "if rev_ord == \"yes\":\n",
    "    number_b = number1\n",
    "    number_a = number2\n",
    "else:\n",
    "    number1 = number1\n",
    "    number2 = number2\n",
    "    \n",
    "if rev_ord == \"yes\":\n",
    "    if operation == \"addition\":\n",
    "        print(number_a + number_b)\n",
    "    elif operation == \"subtraction\":\n",
    "        print(number_a - number_b)\n",
    "    elif operation == \"multiplication\":\n",
    "        print(number_a * number_b)\n",
    "    elif operation == \"division\":\n",
    "        print(number_a / number_b)\n",
    "    else:\n",
    "        print(\"invalid command\").format(operation)\n",
    "elif rev_ord == \"no\":\n",
    "    if operation == \"addition\":\n",
    "        print(number1 + number2)\n",
    "    elif operation == \"subtraction\":\n",
    "        print(number1 - number2)\n",
    "    elif operation == \"multiplication\":\n",
    "        print(number1 * number2)\n",
    "    elif operation == \"division\":\n",
    "        print(number1 / number2)\n",
    "    else:\n",
    "        print(\"invalid command\").format(operation)\n",
    "else:\n",
    "    print(\"invalid command\").format(operation)"
   ]
  }
 ],
 "metadata": {
  "kernelspec": {
   "display_name": "Python 3",
   "language": "python",
   "name": "python3"
  },
  "language_info": {
   "codemirror_mode": {
    "name": "ipython",
    "version": 3
   },
   "file_extension": ".py",
   "mimetype": "text/x-python",
   "name": "python",
   "nbconvert_exporter": "python",
   "pygments_lexer": "ipython3",
   "version": "3.7.1"
  }
 },
 "nbformat": 4,
 "nbformat_minor": 2
}
