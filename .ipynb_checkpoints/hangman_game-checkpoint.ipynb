{
 "cells": [
  {
   "cell_type": "code",
   "execution_count": 1,
   "metadata": {},
   "outputs": [],
   "source": [
    "# select a word to play with\n",
    "# Ask user for input\n",
    "# Check if guess is correct.\n",
    "# a. If it is, show the letter in the proper place.\n",
    "# b. If it isn’t, lose a life.\n",
    "# Continue steps 2 and 3 until one of the following occurs:\n",
    "# a. The user guesses the word correctly.\n",
    "# b. The user loses all their lives."
   ]
  },
  {
   "cell_type": "code",
   "execution_count": 2,
   "metadata": {},
   "outputs": [],
   "source": [
    "from random import choice\n",
    "from IPython.display import clear_output"
   ]
  },
  {
   "cell_type": "code",
   "execution_count": 3,
   "metadata": {},
   "outputs": [],
   "source": [
    "#declare game variables\n",
    "words = [\"tree\",\"basket\",\"chair\",\"paper\",\"python\"]\n",
    "word = choice(words)\n",
    "guessed, lives, game_over = [], 7, False"
   ]
  },
  {
   "cell_type": "code",
   "execution_count": 4,
   "metadata": {},
   "outputs": [
    {
     "name": "stdout",
     "output_type": "stream",
     "text": [
      "Guess was correct!\n",
      "Congratulations, you guessed it correctly!\n"
     ]
    }
   ],
   "source": [
    "#create a list of underscores to the length of the word\n",
    "guesses = [\"_\"]*len(word)\n",
    "\n",
    "#create main game loop\n",
    "while not game_over:\n",
    "    #ouput game info\n",
    "    hidden_word = \"\".join(guesses)\n",
    "    print(\"Your guessed letters: {}\".format(guessed))\n",
    "    print(\"Word to guess: {}\".format(hidden_word))\n",
    "    print(\"Lives: {}\".format(lives))\n",
    "    \n",
    "    ans = input(\"Type quit or guess a letter: \").lower()\n",
    "    \n",
    "    #clear all previous output \n",
    "    clear_output()\n",
    "    \n",
    "    if ans == \"quit\":\n",
    "        print(\"Thanks for playing\")\n",
    "        game_over = True\n",
    "    elif ans in word and ans not in guessed:\n",
    "        print(\"Guess was correct!\")\n",
    "        \n",
    "        #create a loop to change underscore to proper letter\n",
    "        for i in range(len(word)):\n",
    "            if word[i] == ans:\n",
    "                guesses[i] = ans\n",
    "                \n",
    "    elif ans in guessed:\n",
    "        print(\"You already guessed that! Try again.\")\n",
    "    else:\n",
    "        lives -= 1\n",
    "        print(\"Incorrect, lost a life!\")\n",
    "    \n",
    "    #add guess to guessed list\n",
    "    if ans not in guessed:\n",
    "        guessed.append(ans)\n",
    "   \n",
    "    if lives <= 0:\n",
    "        print(\"All lives lost, game over!\")\n",
    "        game_over = True\n",
    "    elif word == \"\".join(guesses):\n",
    "        print(\"Congratulations, you guessed it correctly!\")\n",
    "        game_over = True"
   ]
  },
  {
   "cell_type": "code",
   "execution_count": null,
   "metadata": {},
   "outputs": [],
   "source": []
  }
 ],
 "metadata": {
  "kernelspec": {
   "display_name": "Python 3",
   "language": "python",
   "name": "python3"
  },
  "language_info": {
   "codemirror_mode": {
    "name": "ipython",
    "version": 3
   },
   "file_extension": ".py",
   "mimetype": "text/x-python",
   "name": "python",
   "nbconvert_exporter": "python",
   "pygments_lexer": "ipython3",
   "version": "3.7.1"
  }
 },
 "nbformat": 4,
 "nbformat_minor": 2
}
