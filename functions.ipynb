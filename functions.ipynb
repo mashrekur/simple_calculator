{
 "cells": [
  {
   "cell_type": "code",
   "execution_count": 1,
   "metadata": {},
   "outputs": [],
   "source": [
    "def printinfo():\n",
    "    print(\"MashSmash\")\n",
    "    print(\"PhD\")"
   ]
  },
  {
   "cell_type": "code",
   "execution_count": 2,
   "metadata": {},
   "outputs": [
    {
     "name": "stdout",
     "output_type": "stream",
     "text": [
      "MashSmash\n",
      "PhD\n"
     ]
    }
   ],
   "source": [
    "printinfo()"
   ]
  },
  {
   "cell_type": "code",
   "execution_count": 3,
   "metadata": {},
   "outputs": [
    {
     "name": "stdout",
     "output_type": "stream",
     "text": [
      "15\n"
     ]
    }
   ],
   "source": [
    "def calc():\n",
    "    x,y = 5,10\n",
    "    print(x+y)\n",
    "calc()"
   ]
  },
  {
   "cell_type": "code",
   "execution_count": 4,
   "metadata": {},
   "outputs": [
    {
     "name": "stdout",
     "output_type": "stream",
     "text": [
      "Mash\n"
     ]
    }
   ],
   "source": [
    "#Define a function called myName, and have it print out your name\n",
    "#when called\n",
    "def myName():\n",
    "    print(\"Mash\")\n",
    "myName()"
   ]
  },
  {
   "cell_type": "code",
   "execution_count": 8,
   "metadata": {},
   "outputs": [
    {
     "name": "stdout",
     "output_type": "stream",
     "text": [
      "Mushrooms\n",
      "Black Olives\n",
      "Jalapeno\n",
      "Vegan Cheese\n",
      "Mushrooms\n",
      "Black Olives\n",
      "Jalapeno\n",
      "Vegan Cheese\n",
      "Mushrooms\n",
      "Black Olives\n",
      "Jalapeno\n",
      "Vegan Cheese\n"
     ]
    }
   ],
   "source": [
    "#Define a function that prints out all your favorite pizza toppings\n",
    "# called pizzaToppings. Call the function three times.\n",
    "def pizzaToppings():\n",
    "    print(\"Mushrooms\")\n",
    "    print(\"Black Olives\")\n",
    "    print(\"Jalapeno\")\n",
    "    print(\"Vegan Cheese\")\n",
    "pizzaToppings()\n",
    "pizzaToppings()\n",
    "pizzaToppings()\n"
   ]
  },
  {
   "cell_type": "code",
   "execution_count": 9,
   "metadata": {},
   "outputs": [
    {
     "name": "stdout",
     "output_type": "stream",
     "text": [
      "Your full name is: Mashrekur Rahman\n",
      "Your full name is: Mash Smash\n"
     ]
    }
   ],
   "source": [
    "#passing a single parameter into a function\n",
    "def printName(full_name):\n",
    "    print(\"Your full name is: {}\".format(full_name))\n",
    "printName(\"Mashrekur Rahman\")\n",
    "printName(\"Mash Smash\")"
   ]
  },
  {
   "cell_type": "code",
   "execution_count": 11,
   "metadata": {},
   "outputs": [
    {
     "name": "stdout",
     "output_type": "stream",
     "text": [
      "1 + 2 = 3\n"
     ]
    }
   ],
   "source": [
    "#passing multiple parameters into a function\n",
    "def addition(num1, num2):\n",
    "    result = num1+num2\n",
    "    print(\"{} + {} = {}\".format(num1, num2, result))\n",
    "addition(1,2)"
   ]
  },
  {
   "cell_type": "code",
   "execution_count": 12,
   "metadata": {},
   "outputs": [
    {
     "name": "stdout",
     "output_type": "stream",
     "text": [
      "4\n",
      "16\n",
      "25\n",
      "100\n",
      "1\n",
      "9\n",
      "36\n"
     ]
    }
   ],
   "source": [
    "#using a function to square all information\n",
    "n1 = [2, 4, 5, 10]\n",
    "n2 = [1, 3, 6]\n",
    "\n",
    "def squares(nums):\n",
    "    for num in nums:\n",
    "        print(num**2)\n",
    "squares(n1)\n",
    "squares(n2)"
   ]
  },
  {
   "cell_type": "code",
   "execution_count": 13,
   "metadata": {},
   "outputs": [
    {
     "name": "stdout",
     "output_type": "stream",
     "text": [
      "Area: 12.56\n"
     ]
    }
   ],
   "source": [
    "#setting default parameter values\n",
    "def calcArea(r, pi=3.14):\n",
    "    area = pi * (r**2)\n",
    "    print(\"Area: {}\".format(area))\n",
    "calcArea(2)"
   ]
  },
  {
   "cell_type": "code",
   "execution_count": 15,
   "metadata": {},
   "outputs": [
    {
     "name": "stdout",
     "output_type": "stream",
     "text": [
      "Mashrekur Rahman Mash\n",
      "Mashrekur Rahman\n"
     ]
    }
   ],
   "source": [
    "def printName(first, last, middle=\"\"):\n",
    "    if middle:\n",
    "        print(\"{} {} {}\".format(first, middle, last))\n",
    "    else:\n",
    "        print(\"{} {}\".format(first, last))\n",
    "printName(\"Mashrekur\", \"Mash\", \"Rahman\")\n",
    "printName(\"Mashrekur\", \"Rahman\")"
   ]
  },
  {
   "cell_type": "code",
   "execution_count": 16,
   "metadata": {},
   "outputs": [
    {
     "name": "stdout",
     "output_type": "stream",
     "text": [
      "5\n",
      "2.5\n"
     ]
    }
   ],
   "source": [
    "#explicitly assigning values to parameters by referencing the name\n",
    "def addNums(num1, num2):\n",
    "    print(num1)\n",
    "    print(num2)\n",
    "addNums(5, num2 = 2.5)"
   ]
  },
  {
   "cell_type": "code",
   "execution_count": 18,
   "metadata": {},
   "outputs": [
    {
     "name": "stdout",
     "output_type": "stream",
     "text": [
      "<class 'tuple'>\n",
      "7\n",
      "Rahman\n"
     ]
    }
   ],
   "source": [
    "#using args parameter to take in a tuple of abritrary values\n",
    "def outputData(name, *args):\n",
    "    print(type(args))\n",
    "    for arg in args:\n",
    "        print(arg)\n",
    "outputData(\"Mash Smash\", 7, \"Rahman\")"
   ]
  },
  {
   "cell_type": "code",
   "execution_count": 19,
   "metadata": {},
   "outputs": [
    {
     "name": "stdout",
     "output_type": "stream",
     "text": [
      "<class 'dict'>\n",
      "Mash Smash\n",
      "7\n"
     ]
    }
   ],
   "source": [
    "#using kwargs paramerter to take in a dictionary of abritrary values\n",
    "def outputData(**kwargs):\n",
    "    print(type(kwargs))\n",
    "    print(kwargs[\"name\"])\n",
    "    print(kwargs[\"num\"])\n",
    "outputData(name = \"Mash Smash\", num = 7, b = True)"
   ]
  },
  {
   "cell_type": "code",
   "execution_count": 35,
   "metadata": {},
   "outputs": [
    {
     "name": "stdout",
     "output_type": "stream",
     "text": [
      "Insert a word :word\n",
      "False\n"
     ]
    }
   ],
   "source": [
    "#Ask the user to input a word, and pass that word into a function\n",
    "# that checks if the word starts with an uppercase. If it does output “True”,\n",
    "# otherwise “False”\n",
    "def insertWord(**kwargs):\n",
    "    if word[0].isupper():\n",
    "        print(\"True\")\n",
    "    else:\n",
    "        print(\"False\") \n",
    "insertWord(word = input(\"Insert a word :\".format()))"
   ]
  },
  {
   "cell_type": "code",
   "execution_count": 53,
   "metadata": {},
   "outputs": [
    {
     "name": "stdout",
     "output_type": "stream",
     "text": [
      "('Mash', 'Smash')\n",
      "('Mash', 'Smash')\n"
     ]
    }
   ],
   "source": [
    "#Define a function that takes in two arguments, first_name and last_\n",
    "#name, and makes both optional. If no values are passed into the parameters, it\n",
    "#should output “No name passed in”; otherwise, it should print out the name.\n",
    "def two_args(*args):\n",
    "    for arg in args:\n",
    "        if arg not in args:\n",
    "            print(\"No name passed in\")\n",
    "        else:\n",
    "            print(args)\n",
    "two_args(\"Mash\", \"Smash\")"
   ]
  },
  {
   "cell_type": "code",
   "execution_count": null,
   "metadata": {},
   "outputs": [],
   "source": []
  }
 ],
 "metadata": {
  "kernelspec": {
   "display_name": "Python 3",
   "language": "python",
   "name": "python3"
  },
  "language_info": {
   "codemirror_mode": {
    "name": "ipython",
    "version": 3
   },
   "file_extension": ".py",
   "mimetype": "text/x-python",
   "name": "python",
   "nbconvert_exporter": "python",
   "pygments_lexer": "ipython3",
   "version": "3.7.1"
  }
 },
 "nbformat": 4,
 "nbformat_minor": 2
}
