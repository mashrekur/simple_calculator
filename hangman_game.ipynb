{
 "cells": [
  {
   "cell_type": "code",
   "execution_count": null,
   "metadata": {},
   "outputs": [],
   "source": [
    "# select a word to play with\n",
    "# Ask user for input\n",
    "# Check if guess is correct.\n",
    "# a. If it is, show the letter in the proper place.\n",
    "# b. If it isn’t, lose a life.\n",
    "# Continue steps 2 and 3 until one of the following occurs:\n",
    "# a. The user guesses the word correctly.\n",
    "# b. The user loses all their lives."
   ]
  },
  {
   "cell_type": "code",
   "execution_count": null,
   "metadata": {},
   "outputs": [],
   "source": [
    "from random import choice\n",
    "from IPython.display import clear_output"
   ]
  },
  {
   "cell_type": "code",
   "execution_count": null,
   "metadata": {},
   "outputs": [],
   "source": [
    "#declare game variables\n",
    "words = [\"tree\",\"basket\",\"chair\",\"paper\",\"python\"]\n",
    "word = choice(words)\n",
    "guessed, lives, game_over = [], 7, False"
   ]
  },
  {
   "cell_type": "code",
   "execution_count": null,
   "metadata": {},
   "outputs": [],
   "source": [
    "#create a list of underscores to the length of the word\n",
    "guesses = [\"_\"]*len(word)"
   ]
  },
  {
   "cell_type": "code",
   "execution_count": null,
   "metadata": {},
   "outputs": [],
   "source": [
    "#create main game loop\n",
    "while not game_over:\n",
    "    ans = input(\"Type quit or guess a letter: \").lower()\n",
    "    if ans == \"quit\":\n",
    "        print(\"Thanks for playing\")\n",
    "        game_over = True"
   ]
  },
  {
   "cell_type": "code",
   "execution_count": null,
   "metadata": {},
   "outputs": [],
   "source": [
    "while not game_over:\n",
    "    #ouput game info\n",
    "    hidden_word = \"\".join(guesses)\n",
    "    print(\"Word to guess: {}\".format(hidden_word))\n",
    "    print(\"Lives: {}\".format(lives))\n",
    "    ans = input"
   ]
  }
 ],
 "metadata": {
  "kernelspec": {
   "display_name": "Python 3",
   "language": "python",
   "name": "python3"
  },
  "language_info": {
   "codemirror_mode": {
    "name": "ipython",
    "version": 3
   },
   "file_extension": ".py",
   "mimetype": "text/x-python",
   "name": "python",
   "nbconvert_exporter": "python",
   "pygments_lexer": "ipython3",
   "version": "3.7.1"
  }
 },
 "nbformat": 4,
 "nbformat_minor": 2
}
