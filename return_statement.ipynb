{
 "cells": [
  {
   "cell_type": "code",
   "execution_count": 1,
   "metadata": {},
   "outputs": [
    {
     "data": {
      "text/plain": [
       "10.0"
      ]
     },
     "execution_count": 1,
     "metadata": {},
     "output_type": "execute_result"
    }
   ],
   "source": [
    "def addnums(n1, n2):\n",
    "    return n1+n2\n",
    "addnums(5.5, 4.5)"
   ]
  },
  {
   "cell_type": "code",
   "execution_count": 4,
   "metadata": {},
   "outputs": [
    {
     "data": {
      "text/plain": [
       "True"
      ]
     },
     "execution_count": 4,
     "metadata": {},
     "output_type": "execute_result"
    }
   ],
   "source": [
    "#shorthand syntax using ternary operator\n",
    "def searchlist(aList, el):\n",
    "    return True if el in aList else False\n",
    "result =  searchlist([\"one\", 2, \"three\"], 2)\n",
    "result\n"
   ]
  },
  {
   "cell_type": "code",
   "execution_count": 11,
   "metadata": {},
   "outputs": [
    {
     "name": "stdout",
     "output_type": "stream",
     "text": [
      "Input first name:Mash\n",
      "Input last name:Smash\n",
      "MashSmash\n"
     ]
    }
   ],
   "source": [
    "# Create a function that takes in a first and last name and returns the\n",
    "# two names joined together.\n",
    "def joinNames(a1, a2):\n",
    "    return(a1 + a2)\n",
    "a1 = input(\"Input first name:\")\n",
    "a2 = input(\"Input last name:\")\n",
    "print(joinNames(a1, a2))"
   ]
  },
  {
   "cell_type": "code",
   "execution_count": 15,
   "metadata": {},
   "outputs": [
    {
     "name": "stdout",
     "output_type": "stream",
     "text": [
      "Insert wish: Happy\n",
      "Insert date: 4th of July\n"
     ]
    },
    {
     "data": {
      "text/plain": [
       "('Happy', '4th of July')"
      ]
     },
     "execution_count": 15,
     "metadata": {},
     "output_type": "execute_result"
    }
   ],
   "source": [
    "# Within a function, ask for user input. Have this function return that\n",
    "# input to be stored in a variable outside of the function. Then print out the input.\n",
    "def fourthjuly(*args):\n",
    "    f1 = input(\"Insert wish: \")\n",
    "    f2 = input(\"Insert date: \")\n",
    "    return(f1, f2)\n",
    "fourthjuly()"
   ]
  },
  {
   "cell_type": "code",
   "execution_count": null,
   "metadata": {},
   "outputs": [],
   "source": []
  }
 ],
 "metadata": {
  "kernelspec": {
   "display_name": "Python 3",
   "language": "python",
   "name": "python3"
  },
  "language_info": {
   "codemirror_mode": {
    "name": "ipython",
    "version": 3
   },
   "file_extension": ".py",
   "mimetype": "text/x-python",
   "name": "python",
   "nbconvert_exporter": "python",
   "pygments_lexer": "ipython3",
   "version": "3.7.1"
  }
 },
 "nbformat": 4,
 "nbformat_minor": 2
}
